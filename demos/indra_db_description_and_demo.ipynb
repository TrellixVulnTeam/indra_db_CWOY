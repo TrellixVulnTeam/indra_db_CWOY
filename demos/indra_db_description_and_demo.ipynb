{
 "cells": [
  {
   "cell_type": "markdown",
   "metadata": {},
   "source": [
    "# The INDRA Database: Description and Demos\n",
    "\n",
    "This notebook walks through some of the basic structure of the INDRA Database, and then works through some use-case examples. It is generally assumed for the purposes of this notebook (unless otherwise stated), that the user has direct access to the database."
   ]
  },
  {
   "cell_type": "markdown",
   "metadata": {},
   "source": [
    "--------------------------------------\n",
    "\n",
    "## The Need-to-knows of INDRA\n",
    "\n",
    "As the name suggests, this database is built using the tools of INDRA, and in turn it can be used to help with many uses of INDRA. It is thus valuable to go over some key features of the INDRA toolbox.\n",
    "\n",
    "### The INDRA Statement\n",
    "The bread and butter of the INDRA Database, and of INDRA itself, is the INDRA Statement, which is described extensively [here](file:///home/patrick/Workspace/indra/doc/_build/html/modules/statements.html). These Statements provide a robust and fairly extensible format for representing mechanistic interactions as Python objects. For the purposes of this tutorial, it is essential to know that Statements:\n",
    "- Have a **type**, for example:\n",
    "    - Phosphorylation\n",
    "    - Complex\n",
    "- Have **agents**, which in turn have some **db refs**, for example:\n",
    "    - MEK has the Famplex db ref id MEK\n",
    "    - Vemurafenib is an agent with the db refs for a CHEBI id \"CHEBI:63637\" and a ChEMBL id \"ChEMBL1229517\"\n",
    "    \n",
    "Most have two agents, a subject and an object, for example:\n",
    "- `Phosphorylation(MEK(), ERK())`\n",
    "- `Inhibition(Vemurafenib(), BRAF())`\n",
    "\n",
    "but there are some types of Statement that are notable exceptions:\n",
    "- Complexes (any number of agents)\n",
    "- Auto-Phospohorylations (one agent)\n",
    "\n",
    "### Sources of INDRA Statements\n",
    "INDRA has implemented tools for loading and generating these Statements from several sources. Here, the key points to recall are that:\n",
    "- INDRA can draw from both from **machine reading systems** such as REACH, and from **mechanism databases**, such as Pathway Commons\n",
    "- For readings, INDRA also provides the groundwork for **running certain readers at massive scales**, fairly easily using AWS Batch.\n",
    "- The results from these sources, especially when combined, **contain a lot of duplicate and closely related information**.\n",
    "\n",
    "### Preassembly of INDRA Statements\n",
    "To build useful models from all these sources, INDRA supplies tools to perform what is call \"preasssembly\" (what you do before \"assembling\" your model), in which:\n",
    "- grounding is regularized (fixes agent db refs), as are protein sites and agent names.\n",
    "- the **redunant information between sources is merged, *with the original source information and evidence preserved*, into a distilled set of unique mechanisms**\n",
    "- the relationship between similar mechanistic information is recorded, such that a more general Statement, such as `Phosphorylation(MEK(), ERK())` can be identified as generalizing `Phosphorylation(MAP2K1(), MAPK1())`.\n",
    "- **Such Preassembled Statements can be uniquely identified by a hash generated from their contents**.\n"
   ]
  },
  {
   "cell_type": "markdown",
   "metadata": {},
   "source": [
    "----------\n",
    "\n",
    "## The Structure of the Database\n",
    "\n",
    "<img src=\"db_basic_structure.png\">\n",
    "\n",
    "The INDRA Database is made up of several tables. There are 4 core groups, shown in the three cylinders and one box above:\n",
    "- **Sources:** Keep track of the content that we read, and the readings of that content, including titles, abstracts, and full texts from various sources. Also keep some metadata on the databases we import.\n",
    "    - `text_refs`,\n",
    "    - `text_content`\n",
    "    - `reading`\n",
    "    - `db_info`\n",
    "- **Raw Statements:** Store all the statements extracted from all the sources, as-is.\n",
    "    - `raw_statements`\n",
    "- **Preassembled Statements:** Here are stored the cleaned, distilled, and relation-mapped statements.\n",
    "    - `raw_unique_links`\n",
    "    - `pa_statements`\n",
    "    - `pa_agents`\n",
    "    - `pa_support_links`\n",
    "- **Materialized Views:** Pre-calculate certain queries for rapid retrieval.\n",
    "    - `pa_meta`\n",
    "    - `fast_raw_pa_link`\n",
    "    - `pa_stmt_src`\n",
    "    - `reading_ref_link`\n",
    "\n",
    "There are many more tables, however there are in general not going to be essential in this demo."
   ]
  },
  {
   "cell_type": "markdown",
   "metadata": {},
   "source": [
    "------\n",
    "\n",
    "## Demos\n",
    "\n",
    "What follows are some demonstrations of the ways you can access the database, at various different levels."
   ]
  },
  {
   "cell_type": "markdown",
   "metadata": {},
   "source": [
    "### Low level access\n",
    "\n",
    "To access and manage the database at the lowest level, the `DatabaseManager` class, from `indra_db.managers.database_manager` is used. You need to have access to the database, hosted on AWS RDS, configured in a config file (documented elsewhere). Here is an example of getting a piece of content from the database:"
   ]
  },
  {
   "cell_type": "code",
   "execution_count": 7,
   "metadata": {},
   "outputs": [
    {
     "name": "stdout",
     "output_type": "stream",
     "text": [
      "text_content:\n",
      "\tcontent: [not shown]\n",
      "\tformat: text\n",
      "\ttext_ref_id: 28416337\n",
      "\tinsert_date: 2018-05-18 17:45:23.406707\n",
      "\ttext_type: abstract\n",
      "\tsource: pubmed\n",
      "\tid: 20202368\n",
      "\tlast_updated: None\n",
      "\n"
     ]
    }
   ],
   "source": [
    "from indra_db.util import get_db, unpack\n",
    "\n",
    "# Get a handle to the database\n",
    "db = get_db('primary')\n",
    "\n",
    "# Get a piece of text content that is an abstract. Everything after the first argument is a condition.\n",
    "tc = db.select_one(db.TextContent, db.TextContent.text_type == 'abstract')\n",
    "print(tc)"
   ]
  },
  {
   "cell_type": "markdown",
   "metadata": {},
   "source": [
    "The actual content is not shown so that the metadata is readable. But you can look at the content by just printing:"
   ]
  },
  {
   "cell_type": "code",
   "execution_count": 8,
   "metadata": {},
   "outputs": [
    {
     "name": "stdout",
     "output_type": "stream",
     "text": [
      "Visual expertise induces changes in neural processing for many different domains of expertise. However, it is unclear how expertise effects for different domains of expertise are related. In the present fMRI study, we combine large-scale univariate and multi-voxel analyses to contrast the expertise-related neural changes associated with two different domains of expertise, bird expertise (ornithology) and mineral expertise (mineralogy). Results indicated distributed expertise-related neural changes, with effects for both domains of expertise in high-level visual cortex and effects for bird expertise even extending to low-level visual regions and the frontal lobe. Importantly, a multivariate generalization analysis showed that effects in high-level visual cortex were specific to the domain of expertise. In contrast, the neural changes in the frontal lobe relating to expertise showed significant generalization, signaling the presence of domain-independent expertise effects. In conclusion, expertise is related to a combination of domain-specific and domain-general changes in neural processing.\n"
     ]
    }
   ],
   "source": [
    "print(unpack(tc.content))"
   ]
  },
  {
   "cell_type": "markdown",
   "metadata": {},
   "source": [
    "Note that the content must be `unpack`ed. This is because we store compressed binary on the database."
   ]
  },
  {
   "cell_type": "markdown",
   "metadata": {},
   "source": [
    "You can get a raw statement from a pmcid by using the `db.link` feature, which uses a networkx graph to construct the necessary joins on your behalf."
   ]
  },
  {
   "cell_type": "code",
   "execution_count": 17,
   "metadata": {},
   "outputs": [],
   "source": [
    "raw_stmts = db.select_all(db.RawStatements, db.TextRef.pmcid == 'PMC4055958', *db.link(db.RawStatements, db.TextRef))"
   ]
  },
  {
   "cell_type": "markdown",
   "metadata": {},
   "source": [
    "Lets look at some of these objects that were returned. The `repr` of the object is not especially informative:"
   ]
  },
  {
   "cell_type": "code",
   "execution_count": 19,
   "metadata": {},
   "outputs": [
    {
     "data": {
      "text/plain": [
       "<indra_db.managers.database_manager.DatabaseManager.__init__.<locals>.RawStatements at 0x7f34a469ee10>"
      ]
     },
     "execution_count": 19,
     "metadata": {},
     "output_type": "execute_result"
    }
   ],
   "source": [
    "raw_stmts[0]"
   ]
  },
  {
   "cell_type": "markdown",
   "metadata": {},
   "source": [
    "However you can, as shown above, `print` the object. Again, the more verbose column, the `json` encoding of the Statement is not printed in this display."
   ]
  },
  {
   "cell_type": "code",
   "execution_count": 20,
   "metadata": {},
   "outputs": [
    {
     "name": "stdout",
     "output_type": "stream",
     "text": [
      "raw_statements:\n",
      "\ttype: IncreaseAmount\n",
      "\tdb_info_id: None\n",
      "\ttext_hash: -3758986799612051399\n",
      "\tbatch_id: 533420918\n",
      "\tid: 10341408\n",
      "\tcreate_date: 2019-05-31 14:06:53.451841\n",
      "\tindra_version: 1.12.0-8d138ebe7e70fefdb7edde1769c0c8bd8cb91526\n",
      "\treading_id: 10100019060322\n",
      "\tsource_hash: 1446941550084421822\n",
      "\tmk_hash: -35673697574246703\n",
      "\tuuid: 6f59cf8d-0210-448b-89de-f5363479e116\n",
      "\tjson: [not shown]\n",
      "\n"
     ]
    }
   ],
   "source": [
    "print(raw_stmts[0])"
   ]
  },
  {
   "cell_type": "code",
   "execution_count": 22,
   "metadata": {},
   "outputs": [
    {
     "data": {
      "text/plain": [
       "b'{\"type\": \"IncreaseAmount\", \"subj\": {\"name\": \"MDMA\", \"db_refs\": {\"PUBCHEM\": \"1615\", \"TEXT\": \"MDMA\"}}, \"obj\": {\"name\": \"Ca\", \"db_refs\": {\"PUBCHEM\": \"271\", \"TEXT\": \"Ca\"}}, \"belief\": 1, \"evidence\": [{\"source_api\": \"reach\", \"text\": \"MDMA induced an increase in basal cytosolic Ca 2+ levels, measured after drug washout.\", \"annotations\": {\"found_by\": \"amount_1\", \"agents\": {\"coords\": [[0, 4], [44, 46]]}}, \"epistemics\": {\"direct\": false, \"section_type\": null}, \"text_refs\": {\"PMID\": \"18050169\"}, \"source_hash\": 1446941550084421822}], \"id\": \"6f59cf8d-0210-448b-89de-f5363479e116\"}'"
      ]
     },
     "execution_count": 22,
     "metadata": {},
     "output_type": "execute_result"
    }
   ],
   "source": [
    "raw_stmts[0].json"
   ]
  },
  {
   "cell_type": "code",
   "execution_count": 24,
   "metadata": {},
   "outputs": [],
   "source": [
    "from indra_db.util import get_statement_object\n",
    "\n",
    "raw_stmt_objs = [get_statement_object(row) for row in raw_stmts]"
   ]
  },
  {
   "cell_type": "markdown",
   "metadata": {},
   "source": [
    "The details of this code are not essential, however you can see that we get a lot of statements from this fulltext, and that there are two different readings producting this content."
   ]
  },
  {
   "cell_type": "code",
   "execution_count": 40,
   "metadata": {},
   "outputs": [
    {
     "name": "stdout",
     "output_type": "stream",
     "text": [
      "10100019060322  IncreaseAmount(MDMA(), Ca())\n",
      "                Activation(NO(), peroxynitrite())\n",
      "                Inhibition(MEM(), alpha7 nAChR())\n",
      "                Activation(nAChR(), MDMA())\n",
      "                Inhibition(memantine(), METH())\n",
      "                Inhibition(METH(), dopamine())\n",
      "                Activation(voltage(), calcium())\n",
      "                Activation(alpha-bungarotoxin(), ROS())\n",
      "                DecreaseAmount(NO(), CYCS())\n",
      "                Inhibition(METH(), ROS())\n",
      "                Inhibition(MEM(), NMDA receptors())\n",
      "                Activation(MDMA(), calcium())\n",
      "                Activation(MDMA(), calcium())\n",
      "                Activation(MDMA(), cell death())\n",
      "                Activation(METH(), ROS())\n",
      "                Activation(METH(), ROS())\n",
      "                Activation(METH(), ROS())\n",
      "                Activation(METH(), ROS())\n",
      "                Activation(METH(), ROS())\n",
      "                Inhibition(MDMA(), dopamine())\n",
      "                Activation(MDMA(), nAChR())\n",
      "                Activation(MDMA(), nAChR())\n",
      "                Activation(MDMA(), nAChR())\n",
      "                Activation(NOS1(), NO())\n",
      "                IncreaseAmount(METH(), NOS1())\n",
      "                Activation(nAChR(), calcium())\n",
      "                Activation(METH(), DCF())\n",
      "                Activation(NO(), METH())\n",
      "                Inhibition(NO(), DA())\n",
      "                Activation(METH(), DA())\n",
      "                Activation(nAChR(), METH())\n",
      "                Inhibition(memantine(), NMDA receptor())\n",
      "                Inhibition(memantine(), MDMA())\n",
      "                Activation(METH(), nAChR())\n",
      "                Inhibition(alpha7 nAChR(), MDMA())\n",
      "                Activation(MDMA(), injury())\n",
      "                Inhibition(alpha7 nAChR blockers MLA and alpha-bungarotoxin(), MDMA())\n",
      "                Activation(MAOB(), MDMA())\n",
      "                Inhibition(dihydro-beta-erythroidine(), alpha4beta2())\n",
      "                Activation(MDMA(), Ca())\n",
      "                Activation(Ca(), tpa-1())\n",
      "                Complex(METH(), MDMA())\n",
      "                DecreaseAmount(Ca(), CYCS())\n",
      "                Activation(MDMA(), ROS())\n",
      "                Activation(MDMA(), ROS())\n",
      "                Activation(MDMA(), ROS())\n",
      "                Activation(MDMA(), ROS())\n",
      "                Activation(MDMA(), ROS())\n",
      "                Activation(MDMA(), ROS())\n",
      "                Activation(vesicular monoamine transporters(), transport())\n",
      "                Activation(METH(), calcium())\n",
      "                Activation(METH(), injury())\n",
      "                Inhibition(MDMA(), ACh())\n",
      "                Activation(Ca(), NOS1())\n",
      "                Inhibition(METH(), SLC18A2())\n",
      "                Activation(METH(), cell death())\n",
      "                Activation(nAChR(), voltage())\n",
      "                Translocation(SYT1(), cytosol, nucleus)\n",
      "                Inhibition(alpha7 nAChR(), METH())\n",
      "                Activation(NO(), MDMA())\n",
      "                Phosphorylation(tpa-1(), SLC6A3())\n",
      "20300019060322  Complex(NOS1(), serotonin())\n",
      "                Complex(PTPN5(), FOXM1())\n",
      "                Phosphorylation(None, SLC6A3())\n"
     ]
    }
   ],
   "source": [
    "rids = set()\n",
    "for row in raw_stmts:\n",
    "    if row.reading_id not in rids:\n",
    "        print(row.reading_id, end='  ')\n",
    "        rids.add(row.reading_id)\n",
    "    else:\n",
    "        print(' '*len(str(row.reading_id)), end='  ')\n",
    "    stmt = get_statement_object(row)\n",
    "    print(stmt)"
   ]
  },
  {
   "cell_type": "markdown",
   "metadata": {},
   "source": [
    "- show evidence text\n",
    "- pa statement example\n",
    "- show loopback to other papers\n",
    "\n",
    "\n",
    "## Higher Level\n",
    "- from agents\n",
    "- from hash\n",
    "\n",
    "## Even higher \n",
    "- Describe split between UI and API\n",
    "- Rest api from agents\n",
    "- from hash\n",
    "- submit curation\n",
    "\n",
    "## UI\n",
    "- From Agents\n",
    "\n",
    "## indrabot\n",
    "- a few screenshots\n",
    "\n",
    "## Plug for INDRA Google\n",
    "- simple one-bar interface\n",
    "- ablity to ask basic follow-up filtering/extending questions"
   ]
  },
  {
   "cell_type": "code",
   "execution_count": null,
   "metadata": {},
   "outputs": [],
   "source": []
  }
 ],
 "metadata": {
  "kernelspec": {
   "display_name": "Python 3",
   "language": "python",
   "name": "python3"
  },
  "language_info": {
   "codemirror_mode": {
    "name": "ipython",
    "version": 3
   },
   "file_extension": ".py",
   "mimetype": "text/x-python",
   "name": "python",
   "nbconvert_exporter": "python",
   "pygments_lexer": "ipython3",
   "version": "3.6.6"
  }
 },
 "nbformat": 4,
 "nbformat_minor": 2
}
