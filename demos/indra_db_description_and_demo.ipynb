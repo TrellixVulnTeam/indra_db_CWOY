{
 "cells": [
  {
   "cell_type": "markdown",
   "metadata": {},
   "source": [
    "# The INDRA Database: Description and Demos\n",
    "\n",
    "This notebook walks through some of the basic structure of the INDRA Database, and then works through some use-case examples. It is generally assumed for the purposes of this notebook (unless otherwise stated), that the user has direct access to the database."
   ]
  },
  {
   "cell_type": "markdown",
   "metadata": {},
   "source": [
    "## The Need-to-knows of INDRA\n",
    "\n",
    "As the name suggests, this database is built using the tools of INDRA, and in turn it can be used to help with many uses of INDRA. It is thus valuable to go over some key features of the INDRA toolbox.\n",
    "\n",
    "### The INDRA Statement\n",
    "The bread and butter of the INDRA Database, and of INDRA itself, is the INDRA Statement, which is described extensively [here](file:///home/patrick/Workspace/indra/doc/_build/html/modules/statements.html). These Statements provide a robust and fairly extensible format for representing mechanistic interactions as Python objects. For the purposes of this tutorial, it is essential to know that Statements:\n",
    "- Have a **type**, for example:\n",
    "    - Phosphorylation\n",
    "    - Complex\n",
    "- Have **agents**, which in turn have some **db refs**, for example:\n",
    "    - MEK has the Famplex db ref id MEK\n",
    "    - Vemurafenib is an agent with the db refs for a CHEBI id \"CHEBI:63637\" and a ChEMBL id \"ChEMBL1229517\"\n",
    "    \n",
    "Most have two agents, a subject and an object, for example:\n",
    "- `Phosphorylation(MEK(), ERK())\n",
    "- `Inhibition(Vemurafenib(), BRAF())`\n",
    "\n",
    "but there are some types of Statement that are notable exceptions:\n",
    "- Complexes (any number of agents)\n",
    "- Auto-Phospohorylations (one agent)\n",
    "\n",
    "### Sources of INDRA Statements\n",
    "INDRA has implemented tools for loading and generating these Statements from several sources. Here, the key points to recall are that:\n",
    "- INDRA can draw from both from **machine reading systems** such as REACH, and from **mechanism databases**, such as Pathway Commons\n",
    "- For readings, INDRA also provides the groundwork for **running certain readers at massive scales**, fairly easily using AWS Batch.\n",
    "- The results from these sources, especially when combined, **contain a lot of duplicate and closely related information**.\n",
    "\n",
    "### Preassembly of INDRA Statements\n",
    "To build useful models from all these sources, INDRA supplies tools to perform what is call \"preasssembly\" (what you do before \"assembling\" your model), in which:\n",
    "- grounding is regularize (fixes agent db refs), sites, and agent names. **Such Preassembled Statements can be uniquely identified by a hash generated from their contents**.\n",
    "- the **redunant information between sources is merged, *with the original source information and evidence preserved*, into a distilled set of unique mechanisms**\n",
    "- the relationship between similar mechanistic information is recorded, such that a more general Statement, such as `Phosphorylation(MEK(), ERK())` can be identified as generalizing `Phosphorylation(MAP2K1(), MAPK1())`. \n"
   ]
  },
  {
   "cell_type": "markdown",
   "metadata": {},
   "source": [
    "## The Structure of the Database\n",
    "\n",
    "The INDRA Database is made up of several tables. There are 4 core groups:\n",
    "- Text to Read (`text_refs`, `text_content`)\n",
    "- Sources of statements: readings and external databases (`reading`, `db_info`)\n",
    "- "
   ]
  },
  {
   "cell_type": "code",
   "execution_count": null,
   "metadata": {},
   "outputs": [],
   "source": []
  }
 ],
 "metadata": {
  "kernelspec": {
   "display_name": "Python 3",
   "language": "python",
   "name": "python3"
  },
  "language_info": {
   "codemirror_mode": {
    "name": "ipython",
    "version": 3
   },
   "file_extension": ".py",
   "mimetype": "text/x-python",
   "name": "python",
   "nbconvert_exporter": "python",
   "pygments_lexer": "ipython3",
   "version": "3.6.6"
  }
 },
 "nbformat": 4,
 "nbformat_minor": 2
}
