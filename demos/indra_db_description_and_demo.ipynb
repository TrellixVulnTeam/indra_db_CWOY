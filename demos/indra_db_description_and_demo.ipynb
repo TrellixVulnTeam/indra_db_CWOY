{
 "cells": [
  {
   "cell_type": "markdown",
   "metadata": {
    "slideshow": {
     "slide_type": "slide"
    }
   },
   "source": [
    "# The INDRA Database: Description and Demos\n",
    "\n",
    "This notebook walks through some of the basic structure of the INDRA Database, and then works through some use-case examples. It is generally assumed for the purposes of this notebook (unless otherwise stated), that the user has direct access to the database."
   ]
  },
  {
   "cell_type": "markdown",
   "metadata": {
    "slideshow": {
     "slide_type": "slide"
    }
   },
   "source": [
    "--------------------------------------\n",
    "\n",
    "## The Need-to-knows of INDRA\n",
    "\n",
    "As the name suggests, this database is built using the tools of INDRA, and in turn it can be used to help with many uses of INDRA. It is thus valuable to go over some key features of the INDRA toolbox.\n",
    "\n",
    "### The INDRA Statement\n",
    "The bread and butter of the INDRA Database, and of INDRA itself, is the INDRA Statement, which is described extensively [here](file:///home/patrick/Workspace/indra/doc/_build/html/modules/statements.html). These Statements provide a robust and fairly extensible format for representing mechanistic interactions as Python objects. For the purposes of this tutorial, it is essential to know that Statements:\n",
    "- Have a **type**, for example:\n",
    "    - Phosphorylation\n",
    "    - Complex\n",
    "- Have **agents**, which in turn have some **db refs**, for example:\n",
    "    - MEK has the Famplex db ref id MEK\n",
    "    - Vemurafenib is an agent with the db refs for a CHEBI id \"CHEBI:63637\" and a ChEMBL id \"ChEMBL1229517\"\n",
    "    \n",
    "Most have two agents, a subject and an object, for example:\n",
    "- `Phosphorylation(MEK(), ERK())`\n",
    "- `Inhibition(Vemurafenib(), BRAF())`\n",
    "\n",
    "but there are some types of Statement that are notable exceptions:\n",
    "- Complexes (any number of agents)\n",
    "- Auto-Phospohorylations (one agent)\n",
    "\n",
    "### Sources of INDRA Statements\n",
    "INDRA has implemented tools for loading and generating these Statements from several sources. Here, the key points to recall are that:\n",
    "- INDRA can draw from both from **machine reading systems** such as REACH, and from **mechanism databases**, such as Pathway Commons\n",
    "- For readings, INDRA also provides the groundwork for **running certain readers at massive scales**, fairly easily using AWS Batch.\n",
    "- The results from these sources, especially when combined, **contain a lot of duplicate and closely related information**.\n",
    "\n",
    "### Preassembly of INDRA Statements\n",
    "To build useful models from all these sources, INDRA supplies tools to perform what is call \"preasssembly\" (what you do before \"assembling\" your model), in which:\n",
    "- grounding is regularized (fixes agent db refs), as are protein sites and agent names.\n",
    "- the **redunant information between sources is merged, *with the original source information and evidence preserved*, into a distilled set of unique mechanisms**\n",
    "- the relationship between similar mechanistic information is recorded, such that a more general Statement, such as `Phosphorylation(MEK(), ERK())` can be identified as generalizing `Phosphorylation(MAP2K1(), MAPK1())`.\n",
    "- **Such Preassembled Statements can be uniquely identified by a hash generated from their contents**.\n"
   ]
  },
  {
   "cell_type": "markdown",
   "metadata": {},
   "source": [
    "----------\n",
    "\n",
    "## The Structure of the Database\n",
    "\n",
    "<img src=\"db_basic_structure.png\">\n",
    "\n",
    "The INDRA Database is made up of several tables. There are 4 core groups, shown in the three cylinders and one box above:\n",
    "- **Sources:** Keep track of the content that we read, and the readings of that content, including titles, abstracts, and full texts from various sources. Also keep some metadata on the databases we import.\n",
    "    - `text_refs`,\n",
    "    - `text_content`\n",
    "    - `reading`\n",
    "    - `db_info`\n",
    "- **Raw Statements:** Store all the statements extracted from all the sources, as-is.\n",
    "    - `raw_statements`\n",
    "- **Preassembled Statements:** Here are stored the cleaned, distilled, and relation-mapped statements.\n",
    "    - `raw_unique_links`\n",
    "    - `pa_statements`\n",
    "    - `pa_agents`\n",
    "    - `pa_support_links`\n",
    "- **Materialized Views:** Pre-calculate certain queries for rapid retrieval.\n",
    "    - `pa_meta`\n",
    "    - `fast_raw_pa_link`\n",
    "    - `pa_stmt_src`\n",
    "    - `reading_ref_link`\n",
    "\n",
    "There are many more tables, however there are in general not going to be essential in this demo. Here is a diagram of the database schema, not including the materialized views (which are not really part of the schema), with the major groupings colorcoded. Green indicates *sources*, orange indicates *raw statements*, and blue indicates *preassembled statements*. Each line indicates the presence of a foreign-key link.\n",
    "\n",
    "<img src=\"indra_db.png\">"
   ]
  },
  {
   "cell_type": "markdown",
   "metadata": {},
   "source": [
    "------\n",
    "\n",
    "## Demos\n",
    "\n",
    "What follows are some demonstrations of the ways you can access the database, at various different levels."
   ]
  },
  {
   "cell_type": "markdown",
   "metadata": {},
   "source": [
    "### Low level access\n",
    "\n",
    "#### pgadmin (or similar)\n",
    "\n",
    "If you have pgadmin installed, you can browse the database content through a GUI, even changing values by hand.\n",
    "\n",
    "#### Database Manager API\n",
    "\n",
    "To access and manage the database at the lowest level, the `DatabaseManager` class, from `indra_db.managers.database_manager` is used. You need to have access to the database, hosted on AWS RDS, configured in a config file (documented elsewhere). Here is an example of getting a piece of content from the database:"
   ]
  },
  {
   "cell_type": "code",
   "execution_count": 1,
   "metadata": {},
   "outputs": [
    {
     "name": "stdout",
     "output_type": "stream",
     "text": [
      "text_content:\n",
      "\tinsert_date: 2018-05-18 17:45:23.406707\n",
      "\ttext_type: abstract\n",
      "\tsource: pubmed\n",
      "\tid: 20202368\n",
      "\tlast_updated: None\n",
      "\tcontent: [not shown]\n",
      "\tformat: text\n",
      "\ttext_ref_id: 28416337\n",
      "\n"
     ]
    }
   ],
   "source": [
    "from indra_db.util import get_db, unpack\n",
    "\n",
    "# Get a handle to the database\n",
    "db = get_db('primary')\n",
    "\n",
    "# Get a piece of text content that is an abstract. Everything after the first argument is a condition.\n",
    "tc = db.select_one(db.TextContent, db.TextContent.text_type == 'abstract')\n",
    "print(tc)"
   ]
  },
  {
   "cell_type": "markdown",
   "metadata": {},
   "source": [
    "The actual content is not shown so that the metadata is readable. But you can look at the content by just printing:"
   ]
  },
  {
   "cell_type": "code",
   "execution_count": 2,
   "metadata": {},
   "outputs": [
    {
     "name": "stdout",
     "output_type": "stream",
     "text": [
      "Visual expertise induces changes in neural processing for many different domains of expertise. However, it is unclear how expertise effects for different domains of expertise are related. In the present fMRI study, we combine large-scale univariate and multi-voxel analyses to contrast the expertise-related neural changes associated with two different domains of expertise, bird expertise (ornithology) and mineral expertise (mineralogy). Results indicated distributed expertise-related neural changes, with effects for both domains of expertise in high-level visual cortex and effects for bird expertise even extending to low-level visual regions and the frontal lobe. Importantly, a multivariate generalization analysis showed that effects in high-level visual cortex were specific to the domain of expertise. In contrast, the neural changes in the frontal lobe relating to expertise showed significant generalization, signaling the presence of domain-independent expertise effects. In conclusion, expertise is related to a combination of domain-specific and domain-general changes in neural processing.\n"
     ]
    }
   ],
   "source": [
    "print(unpack(tc.content))"
   ]
  },
  {
   "cell_type": "markdown",
   "metadata": {},
   "source": [
    "Note that the content must be `unpack`ed. This is because we store compressed binary on the database."
   ]
  },
  {
   "cell_type": "markdown",
   "metadata": {},
   "source": [
    "You can get a raw statement from a pmcid by using the `db.link` feature, which uses a networkx graph to construct the necessary joins on your behalf."
   ]
  },
  {
   "cell_type": "code",
   "execution_count": 3,
   "metadata": {},
   "outputs": [],
   "source": [
    "raw_stmt_rows = db.select_all(db.RawStatements, db.TextRef.pmcid == 'PMC4055958',\n",
    "                              *db.link(db.RawStatements, db.TextRef))"
   ]
  },
  {
   "cell_type": "markdown",
   "metadata": {},
   "source": [
    "Lets look at some of these objects that were returned. The `repr` of the object is not especially informative:"
   ]
  },
  {
   "cell_type": "code",
   "execution_count": 4,
   "metadata": {},
   "outputs": [
    {
     "data": {
      "text/plain": [
       "<indra_db.managers.database_manager.DatabaseManager.__init__.<locals>.RawStatements at 0x7fcaf6cda588>"
      ]
     },
     "execution_count": 4,
     "metadata": {},
     "output_type": "execute_result"
    }
   ],
   "source": [
    "raw_stmt_rows[0]"
   ]
  },
  {
   "cell_type": "markdown",
   "metadata": {},
   "source": [
    "However you can, as shown above, `print` the object. Again, the more verbose column, the `json` encoding of the Statement is not printed in this display."
   ]
  },
  {
   "cell_type": "code",
   "execution_count": 5,
   "metadata": {},
   "outputs": [
    {
     "name": "stdout",
     "output_type": "stream",
     "text": [
      "raw_statements:\n",
      "\tcreate_date: 2019-05-31 14:06:53.451841\n",
      "\tindra_version: 1.12.0-8d138ebe7e70fefdb7edde1769c0c8bd8cb91526\n",
      "\treading_id: 10100019060322\n",
      "\tsource_hash: 6135995456400101117\n",
      "\tmk_hash: -22060906923060024\n",
      "\tbatch_id: 533420918\n",
      "\tid: 10341406\n",
      "\tjson: [not shown]\n",
      "\ttype: DecreaseAmount\n",
      "\tdb_info_id: None\n",
      "\ttext_hash: -7392788542727949939\n",
      "\tuuid: 2d7607df-43c0-451f-a773-534d614f7baf\n",
      "\n"
     ]
    }
   ],
   "source": [
    "print(raw_stmt_rows[0])"
   ]
  },
  {
   "cell_type": "code",
   "execution_count": 6,
   "metadata": {},
   "outputs": [
    {
     "data": {
      "text/plain": [
       "b'{\"type\": \"DecreaseAmount\", \"subj\": {\"name\": \"NO\", \"db_refs\": {\"PUBCHEM\": \"24822\", \"TEXT\": \"NO\"}}, \"obj\": {\"name\": \"CYCS\", \"db_refs\": {\"UP\": \"P99999\", \"HGNC\": \"19986\", \"TEXT\": \"cytochrome c\"}}, \"belief\": 1, \"evidence\": [{\"source_api\": \"reach\", \"text\": \"NO and Ca 2+ synergistically inactivate mitochondrial complex I and cause a loss of cytochrome c, probably via formation of ONOO - [XREF_BIBR].\", \"annotations\": {\"found_by\": \"decrease_amount_1\", \"agents\": {\"coords\": [[0, 2], [85, 97]]}}, \"epistemics\": {\"direct\": false, \"section_type\": null}, \"text_refs\": {\"PMID\": \"18050169\"}, \"source_hash\": 6135995456400101117}], \"id\": \"2d7607df-43c0-451f-a773-534d614f7baf\"}'"
      ]
     },
     "execution_count": 6,
     "metadata": {},
     "output_type": "execute_result"
    }
   ],
   "source": [
    "raw_stmt_rows[0].json"
   ]
  },
  {
   "cell_type": "markdown",
   "metadata": {},
   "source": [
    "The details of this code are not essential, however you can see that we get a lot of statements from this fulltext, and that there are two different readings producting this content."
   ]
  },
  {
   "cell_type": "code",
   "execution_count": 7,
   "metadata": {
    "scrolled": true
   },
   "outputs": [
    {
     "name": "stdout",
     "output_type": "stream",
     "text": [
      "10100019060322\n",
      "\t DecreaseAmount(NO(), CYCS())\n",
      "\t IncreaseAmount(MDMA(), Ca())\n",
      "\t Inhibition(METH(), ROS())\n",
      "\t Activation(METH(), DA())\n",
      "\t Inhibition(METH(), SLC18A2())\n",
      "\t Activation(METH(), ROS())\n",
      "\t Activation(NO(), peroxynitrite())\n",
      "\t Activation(NOS1(), NO())\n",
      "\t Activation(NO(), METH())\n",
      "\t Activation(NO(), MDMA())\n",
      "\t ... and 51 more!\n",
      "20300019060322\n",
      "\t Phosphorylation(None, SLC6A3())\n",
      "\t Complex(NOS1(), serotonin())\n",
      "\t Complex(PTPN5(), FOXM1())\n"
     ]
    }
   ],
   "source": [
    "from collections import defaultdict\n",
    "from indra_db.util import get_statement_object\n",
    "\n",
    "# Make a dict of lists keyed by reading id (all statements grouped by reading)\n",
    "raw_stmts_by_rid = defaultdict(list)\n",
    "for row in raw_stmt_rows:\n",
    "    raw_stmts_by_rid[row.reading_id].append(row)\n",
    "\n",
    "# Print a sampling of the statements\n",
    "for rid, some_rows in raw_stmts_by_rid.items():\n",
    "    print(rid)\n",
    "    for row in some_rows[:10]:\n",
    "        print('\\t', get_statement_object(row))\n",
    "    if len(some_rows) > 10:\n",
    "        print(f\"\\t ... and {len(some_rows) - 10} more!\")\n"
   ]
  },
  {
   "cell_type": "markdown",
   "metadata": {},
   "source": [
    "You can also search for pa_statements by linking further from the raw statement to the preassembled statements, through the `raw_unique_links`, which is again handled tidily by the `db.link` feature."
   ]
  },
  {
   "cell_type": "code",
   "execution_count": 8,
   "metadata": {},
   "outputs": [
    {
     "name": "stdout",
     "output_type": "stream",
     "text": [
      "raw_unique_links.pa_stmt_mk_hash = pa_statements.mk_hash\n",
      "raw_unique_links.raw_stmt_id = raw_statements.id\n",
      "raw_statements.reading_id = reading.id\n",
      "reading.text_content_id = text_content.id\n",
      "text_content.text_ref_id = text_ref.id\n"
     ]
    }
   ],
   "source": [
    "for link in db.link(db.PAStatements, db.TextRef):\n",
    "    print(link)"
   ]
  },
  {
   "cell_type": "code",
   "execution_count": 9,
   "metadata": {},
   "outputs": [
    {
     "name": "stdout",
     "output_type": "stream",
     "text": [
      "I found 49 preassmebled statements.\n",
      "\n",
      "Here's a sample:\n",
      "Phosphorylation(PKC(), SLC6A3())\n",
      "Complex(serotonin(), NOS1())\n",
      "Activation(CHRN(), pyraclofos())\n",
      "Activation(NOS1(), nitric oxide())\n",
      "Activation(3,4-methylenedioxymethamphetamine(), ROS1())\n",
      "Activation(METH(), DCF())\n",
      "Inhibition(MEM(), alpha7 nAChR())\n",
      "Activation(METH(), dopamine())\n",
      "DecreaseAmount(calcium(2+)(), CYCS())\n",
      "Activation(3,4-methylenedioxymethamphetamine(), calcium(2+)())\n"
     ]
    }
   ],
   "source": [
    "pa_stmt_rows = db.select_all(db.PAStatements, db.TextRef.pmcid == 'PMC4055958', \n",
    "                             *db.link(db.PAStatements, db.TextRef))\n",
    "print(f\"I found {len(pa_stmt_rows)} preassmebled statements.\\n\")\n",
    "\n",
    "# Print some samples.\n",
    "print(\"Here's a sample:\")\n",
    "for row in pa_stmt_rows[:10]:\n",
    "    print(get_statement_object(row))"
   ]
  },
  {
   "cell_type": "markdown",
   "metadata": {},
   "source": [
    "As you can see, the redundant Statements have been collapse.\n",
    "\n",
    "As a demonstration, we could use the results of this search to find more paper ids for papers involving similar mechanisms. This works because each preassembled statment is supported by multiple raw statements, in general from multiple papers. *Note that the preassembled statements are identified by a hash of what's called a matches-key, or `mk_hash`.* These are a re-producable value which uniquely identifies a preassembled statement by the information it represents."
   ]
  },
  {
   "cell_type": "code",
   "execution_count": 10,
   "metadata": {},
   "outputs": [
    {
     "name": "stdout",
     "output_type": "stream",
     "text": [
      "We found 4374 text refs with related mechanisms!\n",
      "\n",
      "PMID: 20047071    PMCID: None\n",
      "PMID: 24275851    PMCID: PMC3817602\n",
      "PMID: 23578024    PMCID: PMC3914398\n",
      "PMID: 9182590     PMCID: None\n",
      "PMID: 24549364    PMCID: PMC4138306\n",
      "PMID: 24875574    PMCID: PMC4203735\n",
      "PMID: 23959639    PMCID: PMC3859705\n",
      "PMID: 16359614    PMCID: None\n",
      "PMID: 19758695    PMCID: None\n",
      "PMID: 27047180    PMCID: PMC4774759\n"
     ]
    }
   ],
   "source": [
    "text_ref_rows = db.select_all(db.TextRef, db.PAStatements.mk_hash.in_({row.mk_hash for row in pa_stmt_rows}),\n",
    "                              *db.link(db.PAStatements, db.TextRef))\n",
    "print(f\"We found {len(text_ref_rows)} text refs with related mechanisms!\\n\")\n",
    "\n",
    "# Print a sample of the pmids and pmcids for each ref.\n",
    "for row in text_ref_rows[:10]:\n",
    "    print(f\"PMID: {str(row.pmid):10}  PMCID: {row.pmcid}\")"
   ]
  },
  {
   "cell_type": "markdown",
   "metadata": {},
   "source": [
    "We can of course also search for statements involving certain entities:"
   ]
  },
  {
   "cell_type": "code",
   "execution_count": 11,
   "metadata": {},
   "outputs": [
    {
     "name": "stdout",
     "output_type": "stream",
     "text": [
      "I found 580 statements about the inhibition of BRAF!\n",
      "\n",
      "Here's a sample:\n",
      "Inhibition(vemurafenib(), BRAF())\n",
      "Inhibition(mTORC1(), BRAF())\n",
      "Inhibition(BRAF inhibitor(), BRAF(muts: (V, 600, E)))\n",
      "Inhibition(SPRY2(), BRAF())\n",
      "Inhibition(dabrafenib(), BRAF())\n",
      "Inhibition(erlotinib(), BRAF())\n",
      "Inhibition(phenformin(), BRAF())\n",
      "Inhibition(PREP(), BRAF())\n",
      "Inhibition(PTEN(), BRAF(muts: (None, None, None)))\n",
      "Inhibition(EGFR(), BRAF())\n"
     ]
    }
   ],
   "source": [
    "# Search for statements with agents whose 'NAME' is 'BRAF', where the agent is the object, where the\n",
    "# Statement is an Inhibition.\n",
    "inhibits_braf_rows = db.select_all(db.PAStatements, db.PAStatements.mk_hash == db.PAAgents.stmt_mk_hash,\n",
    "                                   db.PAAgents.db_id == 'BRAF', db.PAAgents.db_name == 'NAME',\n",
    "                                   db.PAAgents.role == 'OBJECT', db.PAStatements.type == 'Inhibition')\n",
    "print(f\"I found {len(inhibits_braf_rows)} statements about the inhibition of BRAF!\\n\")\n",
    "\n",
    "# Print a sample\n",
    "print(\"Here's a sample:\")\n",
    "for row in inhibits_braf_rows[:10]:\n",
    "    print(get_statement_object(row))"
   ]
  },
  {
   "cell_type": "markdown",
   "metadata": {},
   "source": [
    "### The Python Client API\n",
    "\n",
    "This is a rather cumbersome way to look for statements, and moreover there are two problems with this result:\n",
    "1. The raw evidence is not included.\n",
    "2. You can only query by one agent, when what you often want is to search for _both_ entities in a relationship.\n",
    "\n",
    "To address this problem, a higher-level API was developed, which can be found in the `indra_db.client`, in particular `indra_db.client.optimized`. These tools allow for fully-formed (modulo support links) statements to be rapidly loaded from the database. Note: *This API makes use of the materialized views to speed queries.*\n",
    "\n",
    "The principle function implemented in the client allows you to search and retrieve preassembled statements based on their entities and type."
   ]
  },
  {
   "cell_type": "code",
   "execution_count": 12,
   "metadata": {
    "scrolled": false
   },
   "outputs": [
    {
     "name": "stdout",
     "output_type": "stream",
     "text": [
      "The result has the following keys: {'evidence_returned', 'total_evidence', 'statements', 'evidence_totals'}\n",
      "There is 929 'total_evidence' available, and 51 ('evidence_returned') were returned for 24 Statements.\n",
      "Phosphorylation(MEK(), ERK())\n",
      "Phosphorylation(MEK(), ERK(), T)\n",
      "Phosphorylation(MEK(), ERK(), Y)\n",
      "Phosphorylation(MEK(), ERK(), Y, 204)\n",
      "Phosphorylation(MEK(), ERK(), T, 202)\n",
      "Phosphorylation(MEK(mods: (phosphorylation)), ERK())\n",
      "Phosphorylation(MEK(), ERK(), Y, 205)\n",
      "Phosphorylation(MEK(), ERK(), T, 867)\n",
      "Phosphorylation(MEK(), ERK(), S, 221)\n",
      "Phosphorylation(MEK(), ERK(), S)\n",
      "Phosphorylation(MEK(), ERK(), T, 203)\n",
      "Phosphorylation(MEK(mods: (modification)), ERK())\n",
      "Phosphorylation(MEK(), ERK(), S, 217)\n",
      "Phosphorylation(MEK(mods: (modification), muts: (None, None, None)), ERK())\n",
      "Phosphorylation(MEK(muts: (None, None, None)), ERK())\n",
      "Phosphorylation(MEK(), ERK(), T, 125)\n",
      "Phosphorylation(MEK(), ERK(), S, 431)\n",
      "Phosphorylation(MEK(), ERK(), A, 1726)\n",
      "Phosphorylation(MEK(), ERK(), C, 20)\n",
      "Phosphorylation(MEK(), ERK(), Y, 185)\n",
      "Phosphorylation(MEK(), ERK(), T, 9)\n",
      "Phosphorylation(MEK(), ERK(), S, 986)\n",
      "Phosphorylation(MEK(), ERK(muts: (None, None, None)))\n",
      "Phosphorylation(MEK(), ERK(), T, 581)\n"
     ]
    }
   ],
   "source": [
    "import json\n",
    "from indra.statements import Statement\n",
    "from indra_db import client as dbc\n",
    "\n",
    "# Look for a statement with two agents, a subject with the Famplex grounding of \"MEK\", and an object\n",
    "# with the Famplex grounding of \"ERK\", that is of type \"Phosphorylation\", and return only at most 5 evidence\n",
    "# for each pa statement.\n",
    "results = dbc.get_statement_jsons_from_agents([('SUBJECT', 'MEK', 'FPLX'), ('OBJECT', 'ERK', 'FPLX')],\n",
    "                                              stmt_type='Phosphorylation', ev_limit=5)\n",
    "\n",
    "# Print the keys.\n",
    "print(\"The result has the following keys:\", set(results.keys()))\n",
    "\n",
    "# Summarize the results.\n",
    "print(f\"There is {results['total_evidence']} 'total_evidence' available, \"\n",
    "      f\"and {results['evidence_returned']} ('evidence_returned') were returned \"\n",
    "      f\"for {len(results['statements'])} Statements.\")\n",
    "\n",
    "# Print some samples\n",
    "for stmt_json in results['statements'].values():\n",
    "      print(Statement._from_json(stmt_json))"
   ]
  },
  {
   "cell_type": "markdown",
   "metadata": {},
   "source": [
    "Even though we were fairly specific in our query, there are still variations in the details. Soon we will make it possible to search by the modifications and mutations.\n",
    "\n",
    "The json for each of these statements contains extensive and rich information, for example let us inspect the very last json in our list:"
   ]
  },
  {
   "cell_type": "code",
   "execution_count": 13,
   "metadata": {},
   "outputs": [
    {
     "name": "stdout",
     "output_type": "stream",
     "text": [
      "{\n",
      "  \"type\": \"Phosphorylation\",\n",
      "  \"enz\": {\n",
      "    \"name\": \"MEK\",\n",
      "    \"db_refs\": {\n",
      "      \"TEXT\": \"MEK1/2\",\n",
      "      \"FPLX\": \"MEK\"\n",
      "    }\n",
      "  },\n",
      "  \"sub\": {\n",
      "    \"name\": \"ERK\",\n",
      "    \"db_refs\": {\n",
      "      \"TEXT\": \"ERK1/2\",\n",
      "      \"FPLX\": \"ERK\"\n",
      "    }\n",
      "  },\n",
      "  \"residue\": \"T\",\n",
      "  \"position\": \"581\",\n",
      "  \"belief\": 1,\n",
      "  \"id\": \"31f1ce72-b01d-49e9-b7f0-4a7d830996df\",\n",
      "  \"evidence\": [\n",
      "    {\n",
      "      \"source_api\": \"reach\",\n",
      "      \"text\": \"Our results showed that FeF at nontoxic doses effectively suppressed EGF induced transformation of JB6 Cl41 cells that was accompanied by decreased phosphorylation of TOPK (Thr9), ERK1/2 (Tyr202/204) and MSK 1 (Thr581), but not MEK1/2 (Ser221), which suggested that FeF attenuated EGF induced cell transformation by inhibiting of TOPK activity.\",\n",
      "      \"annotations\": {\n",
      "        \"found_by\": \"Phosphorylation_syntax_1b_noun\",\n",
      "        \"agents\": {\n",
      "          \"raw_text\": [\n",
      "            \"MEK1/2\",\n",
      "            \"ERK1/2\"\n",
      "          ]\n",
      "        },\n",
      "        \"prior_uuids\": [\n",
      "          \"229a23fe-9883-47bc-9bd4-3b514f598639\"\n",
      "        ],\n",
      "        \"content_source\": \"pmc_oa\"\n",
      "      },\n",
      "      \"epistemics\": {\n",
      "        \"hypothesis\": true,\n",
      "        \"direct\": false,\n",
      "        \"section_type\": null\n",
      "      },\n",
      "      \"text_refs\": {\n",
      "        \"PMID\": \"26936995\",\n",
      "        \"TRID\": 12270346,\n",
      "        \"PMCID\": \"PMC4951327\",\n",
      "        \"DOI\": \"10.18632/ONCOTARGET.7708\",\n",
      "        \"TCID\": 17911605,\n",
      "        \"SOURCE\": \"pmc_oa\",\n",
      "        \"RID\": 10100017911605,\n",
      "        \"READER\": \"REACH\"\n",
      "      },\n",
      "      \"source_hash\": 8300645877020161496,\n",
      "      \"pmid\": \"26936995\"\n",
      "    }\n",
      "  ]\n",
      "}\n"
     ]
    }
   ],
   "source": [
    "print(json.dumps(stmt_json, indent=2))"
   ]
  },
  {
   "cell_type": "markdown",
   "metadata": {},
   "source": [
    "You can also use the client to get such Statement jsons by using the `mk_hash`. This could be useful, for an example in this case, to get the rest of the evidence for that first, generic statement that was returned (`Phosphorylation(MEK(), ERK())`). In fact, we don't even need to use that object, we could just declare a Statement with those attributes and look up evidence for it:"
   ]
  },
  {
   "cell_type": "code",
   "execution_count": 14,
   "metadata": {},
   "outputs": [
    {
     "name": "stdout",
     "output_type": "stream",
     "text": [
      "Our brand-new off-the-lot Statement: Phosphorylation(MEK(), ERK())\n",
      "You can see the hashes are the same: new  -31782050023208088 vs old -31782050023208088\n",
      "\n",
      "The statement retrieved from the database: Phosphorylation(MEK(), ERK())\n",
      "\n",
      "Evidence text and source for this statement:\n",
      "\n",
      "source: sparser\n",
      "text: It mediates its inhibitory properties by binding to the ERK-specific MAP kinase MEK, therefore preventing phosphorylation of ERK1/2 (p44/p42 MAPK) by MEK.\n",
      "\n",
      "source: sparser\n",
      "text: However, we did not employ this model because ERK is processively phosphorylated by MEK in mammalian cells ( Aoki et al., 2011 ).\n",
      "\n",
      "source: sparser\n",
      "text: MEK 1/2 phosphorylates and activates the extracellular signal–regulated kinases (ERK 1/2), and MEK-ERK signals regulate various cellular processes such as survival and apoptosis [ 35 ].\n",
      "\n",
      "source: reach\n",
      "text: MEK inhibition blocks ERK1/2 phosphorylation, the targets for the MEK kinases.\n",
      "\n",
      "source: sparser\n",
      "text: MEK in turn phosphorylates and activates MAPK, also known as extracellular signal-regulated kinase (ERK).\n"
     ]
    }
   ],
   "source": [
    "from indra.statements import Phosphorylation, Agent\n",
    "\n",
    "stmt = Phosphorylation(Agent('MEK', db_refs={'FPLX': 'MEK'}), Agent('ERK', db_refs={'FPLX': 'ERK'}))\n",
    "print(\"Our brand-new off-the-lot Statement:\", stmt)\n",
    "\n",
    "# Show that the hash is the same\n",
    "print(\"You can see the hashes are the same: new \", stmt.get_hash(),\n",
    "      'vs old', list(results['statements'].keys())[0])\n",
    "\n",
    "# And we can look it up on the database\n",
    "one_stmt_result = dbc.get_statement_jsons_from_hashes([stmt.get_hash()])\n",
    "\n",
    "stmt_from_db = Statement._from_json(list(results['statements'].values())[0])\n",
    "\n",
    "print()\n",
    "print(\"The statement retrieved from the database:\", stmt_from_db)\n",
    "print(\"\\nEvidence text and source for this statement:\")\n",
    "for ev in stmt_from_db.evidence:\n",
    "    print()\n",
    "    print('source:', ev.source_api)\n",
    "    print('text:', ev.text)\n"
   ]
  },
  {
   "cell_type": "markdown",
   "metadata": {},
   "source": [
    "### The Web Service REST API\n",
    "\n",
    "So far, all these demos require access direction to the database, which could allow an individual to do more than search, but also make changes to the database. This is of course not ideal, so we developed a REST API, a web service, to serve up results such as the above from the database. The API can be used directly using web requests, as will be domonstrated, but can also be navigated by a web Use Interface (UI), and also leveraged using a submodule of INDRA: `indra.sources.indra_db_rest`. The current structure is summarized here:\n",
    "\n",
    "<img src='api_structure.png'>\n",
    "\n",
    "where the web service is deployed in a serverless fashion using [Zappa](https://github.com/Miserlou/Zappa) and [AWS Lambda](https://aws.amazon.com/lambda/). This allows anyone, anywhere, to search the contents of the database (specifically the preassembled statements)."
   ]
  },
  {
   "cell_type": "markdown",
   "metadata": {},
   "source": [
    "#### Direct API access\n",
    "\n",
    "Here is an example of accessing the API directly, using the built-in `requests` package, essentially repeating our earlier search for inhibitors of BRAF:"
   ]
  },
  {
   "cell_type": "code",
   "execution_count": 15,
   "metadata": {},
   "outputs": [
    {
     "name": "stdout",
     "output_type": "stream",
     "text": [
      "Got response with code: 200\n",
      "Keys in the result: {'evidence_limit', 'statements_returned', 'statements', 'evidence_totals', 'statement_limit', 'offset', 'evidence_returned', 'total_evidence'}\n",
      "Evidence Returned: 1074\n",
      "Total Evidence: 1361\n",
      "Statements Returned: 538\n",
      "An example statement json:\n",
      " {\n",
      "  \"type\": \"Inhibition\",\n",
      "  \"subj\": {\n",
      "    \"name\": \"PAK4\",\n",
      "    \"db_refs\": {\n",
      "      \"TEXT\": \"PAK4\",\n",
      "      \"UP\": \"O96013\",\n",
      "      \"HGNC\": \"16059\"\n",
      "    },\n",
      "    \"sbo\": \"http://identifiers.org/sbo/SBO:0000020\"\n",
      "  },\n",
      "  \"obj\": {\n",
      "    \"name\": \"BRAF\",\n",
      "    \"db_refs\": {\n",
      "      \"TEXT\": \"BRAF\",\n",
      "      \"UP\": \"P15056\",\n",
      "      \"HGNC\": \"1097\"\n",
      "    },\n",
      "    \"sbo\": \"http://identifiers.org/sbo/SBO:0000642\"\n",
      "  },\n",
      "  \"obj_activity\": \"activity\",\n",
      "  \"id\": \"01b2c123-a2ff-4fc1-8ecd-1da9df68c1da\",\n",
      "  \"sbo\": \"http://identifiers.org/sbo/SBO:0000182\",\n",
      "  \"evidence\": [\n",
      "    {\n",
      "      \"source_api\": \"reach\",\n",
      "      \"pmid\": \"23233484\",\n",
      "      \"text\": \"Knockdown of PAK4 or PAK1 inhibited the proliferation of mutant KRAS or BRAF colon cancer cells in vitro.\",\n",
      "      \"annotations\": {\n",
      "        \"found_by\": \"Negative_activation_syntax_1_verb\",\n",
      "        \"agents\": {\n",
      "          \"raw_text\": [\n",
      "            \"PAK4\",\n",
      "            \"BRAF\"\n",
      "          ]\n",
      "        },\n",
      "        \"prior_uuids\": [\n",
      "          \"a3751aff-0968-41ed-925f-63a010e4bbf1\"\n",
      "        ],\n",
      "        \"content_source\": \"pubmed\"\n",
      "      },\n",
      "      \"epistemics\": {\n",
      "        \"section_type\": null,\n",
      "        \"direct\": false\n",
      "      },\n",
      "      \"text_refs\": {\n",
      "        \"TRID\": 10675419,\n",
      "        \"PMID\": \"23233484\",\n",
      "        \"DOI\": \"10.1158/1541-7786.MCR-12-0466\",\n",
      "        \"TCID\": 6652652,\n",
      "        \"SOURCE\": \"pubmed\",\n",
      "        \"RID\": 25116984,\n",
      "        \"READER\": \"REACH\"\n",
      "      },\n",
      "      \"source_hash\": -4339692013621805782\n",
      "    }\n",
      "  ]\n",
      "}\n"
     ]
    }
   ],
   "source": [
    "import requests\n",
    "\n",
    "# Execute the request\n",
    "resp = requests.get('https://db.indra.bio/statements/from_agents?object=BRAF&type=inhibition')\n",
    "\n",
    "# Print some information about the results\n",
    "print(\"Got response with code:\", resp.status_code)\n",
    "result_dict = resp.json()\n",
    "\n",
    "print(\"Keys in the result:\", set(result_dict.keys()))\n",
    "print(\"Evidence Returned:\", result_dict['evidence_returned'])\n",
    "print(\"Total Evidence:\", result_dict['total_evidence'])\n",
    "print(\"Statements Returned:\", result_dict['statements_returned'])\n",
    "print(\"An example statement json:\\n\", json.dumps(list(result_dict['statements'].values())[-1], indent=2))"
   ]
  },
  {
   "cell_type": "markdown",
   "metadata": {},
   "source": [
    "#### INDRA Sources Client to the DB Web Service\n",
    "\n",
    "However, if you are in python, it is (generally) better to just get Statement objects directly, and moreover the API currently imposes various restrictions on the amount of content that can be returned to enable the the use of the AWS API Gateway timeout limitation. The `indra.sources.indra_db_rest` was written to overcome these challenges by creating a seamless API for getting INDRA Statements from the Database via the Web Service, from anywhere."
   ]
  },
  {
   "cell_type": "code",
   "execution_count": 16,
   "metadata": {},
   "outputs": [
    {
     "name": "stderr",
     "output_type": "stream",
     "text": [
      "INFO: [2019-07-06 18:21:02] indra.sources.indra_db_rest.processor - The remainder of the query will be performed in a thread...\n",
      "INFO: [2019-07-06 18:21:02] indra.sources.indra_db_rest.util - url and query string: https://db.indra.bio/statements/from_agents?subject=ERK@FPLX&object=MEK@FPLX&offset=0&type=phosphorylation\n",
      "INFO: [2019-07-06 18:21:02] indra.sources.indra_db_rest.processor - Waiting for thread to complete...\n",
      "INFO: [2019-07-06 18:21:02] indra.sources.indra_db_rest.util - headers: {}\n",
      "INFO: [2019-07-06 18:21:02] indra.sources.indra_db_rest.util - data: None\n",
      "INFO: [2019-07-06 18:21:02] indra.sources.indra_db_rest.util - params: {'ev_limit': 10, 'best_first': True, 'api_key': '[api-key]'}\n"
     ]
    },
    {
     "name": "stdout",
     "output_type": "stream",
     "text": [
      "Phosphorylation(ERK(), MEK())\n",
      "Phosphorylation(ERK(), MEK(), T, 867)\n",
      "Phosphorylation(ERK(), MEK(), S, 472)\n",
      "Phosphorylation(ERK(), MEK(), S)\n",
      "Phosphorylation(ERK(mods: (phosphorylation)), MEK())\n",
      "Phosphorylation(ERK(), MEK(), T)\n"
     ]
    }
   ],
   "source": [
    "from indra.sources import indra_db_rest as idbr\n",
    "\n",
    "processor = idbr.get_statements(subject='ERK@FPLX', object='MEK@FPLX', stmt_type='phosphorylation')\n",
    "for stmt in processor.statements:\n",
    "    print(stmt)"
   ]
  },
  {
   "cell_type": "markdown",
   "metadata": {},
   "source": [
    "This of course works for much larger queries as well:"
   ]
  },
  {
   "cell_type": "code",
   "execution_count": 17,
   "metadata": {},
   "outputs": [
    {
     "name": "stderr",
     "output_type": "stream",
     "text": [
      "INFO: [2019-07-06 18:21:06] indra.sources.indra_db_rest.processor - The remainder of the query will be performed in a thread...\n",
      "INFO: [2019-07-06 18:21:06] indra.sources.indra_db_rest.processor - Waiting for thread to complete...\n"
     ]
    },
    {
     "name": "stdout",
     "output_type": "stream",
     "text": [
      "I found 39222 unique statements! Here are a few of them:\n",
      "Activation(TP53(), apoptosis())\n",
      "Phosphorylation(None, TP53())\n",
      "Complex(TP53(), MDM2())\n",
      "Acetylation(None, TP53())\n",
      "Ubiquitination(None, TP53())\n",
      "Inhibition(MDM2(), TP53())\n",
      "Phosphorylation(None, TP53(), S, 15)\n",
      "Activation(TP53(), cell cycle())\n",
      "Activation(TP53(), CDKN1A())\n",
      "Activation(TP53(), cell death())\n"
     ]
    }
   ],
   "source": [
    "# Quiet the logging a bit\n",
    "from indra.sources.indra_db_rest.util import logger as idbr_util_logger\n",
    "import logging\n",
    "\n",
    "idbr_util_logger.setLevel(logging.WARNING)\n",
    "\n",
    "# Make the query\n",
    "processor_tp53 = idbr.get_statements(agents=['TP53'])\n",
    "print(f\"I found {len(processor_tp53.statements)} unique statements! Here are a few of them:\")\n",
    "for stmt in processor_tp53.statements[:10]:\n",
    "    print(stmt)"
   ]
  },
  {
   "cell_type": "markdown",
   "metadata": {},
   "source": [
    "Well, that took a while! See the section below on the future of the web service for some details about how we hope to improve this."
   ]
  },
  {
   "cell_type": "markdown",
   "metadata": {},
   "source": [
    "#### Web Interface\n",
    "\n",
    "You can also go [here](https://db.indra.bio) and explore statements manually.\n",
    "\n",
    "#### IndraBot\n",
    "\n",
    "We also implemented a Slack App called the IndraBot, which can answer simple questions in natural language.\n"
   ]
  },
  {
   "cell_type": "markdown",
   "metadata": {},
   "source": [
    "### The Future(s) of the Web Service\n",
    "\n",
    "The current structure of the web service is for various technical reasons less-than-ideal. We are currently in the process of overhauling out web interface, and among other key things, hope to seperate out the programmatic API service (shown above) from the graphical web interface/browsing feature, ultimately simplifying code and avoiding the complications caused by timeouts imposed by the serverless deployment we use. We also hope to wrap in some of the key features of the indrabot into the web interface, for instance allowing natural language queries, follow-up questions to filter down results, and user logins to simplify the process of curation and open the door to other user-specific features.\n",
    "\n",
    "This is a diagram of roughly what we think the new architecture will look like:\n",
    "\n",
    "<img src='api_structure_future.png'>"
   ]
  }
 ],
 "metadata": {
  "kernelspec": {
   "display_name": "Python 3",
   "language": "python",
   "name": "python3"
  },
  "language_info": {
   "codemirror_mode": {
    "name": "ipython",
    "version": 3
   },
   "file_extension": ".py",
   "mimetype": "text/x-python",
   "name": "python",
   "nbconvert_exporter": "python",
   "pygments_lexer": "ipython3",
   "version": "3.6.3"
  }
 },
 "nbformat": 4,
 "nbformat_minor": 2
}
